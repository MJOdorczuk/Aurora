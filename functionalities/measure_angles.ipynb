{
 "cells": [
  {
   "cell_type": "code",
   "execution_count": 1,
   "metadata": {},
   "outputs": [],
   "source": [
    "import h5py\n",
    "import numpy as np\n",
    "import matplotlib.pyplot as plt\n",
    "from numpy.linalg import lstsq\n",
    "import os\n",
    "import shutil\n",
    "\n",
    "data_ion = h5py.File('../nd2p00_0000.h5', 'r')\n",
    "data_ion = data_ion[list(data_ion.keys())[0]]\n",
    "data_ele = h5py.File('../nd1p00_0000.h5', 'r')\n",
    "data_ele = data_ele[list(data_ele.keys())[0]]\n",
    "data_phi = h5py.File('../phisp00_0000.h5', 'r')\n",
    "data_phi = data_phi[list(data_phi.keys())[0]]\n",
    "\n",
    "timesteps = list(data_ion.keys())"
   ]
  },
  {
   "cell_type": "code",
   "execution_count": 2,
   "metadata": {},
   "outputs": [],
   "source": [
    "def trailEdgePoint(slice, vs, x, threshold, upper, edge):\n",
    "    try:\n",
    "        if upper:\n",
    "            ys = np.array([np.where(slice < v)[0][0] for v in vs])\n",
    "        else:\n",
    "            slice = slice[::-1]\n",
    "            ys = slice.shape[0] - np.array([np.where(slice < v)[0][0] for v in vs]) - 1\n",
    "\n",
    "        M = ys[:, np.newaxis] ** [0, 1]\n",
    "        c, m = lstsq(M, vs, rcond=None)[0]\n",
    "\n",
    "        edge.append([x, (threshold - c) / m])\n",
    "    except:\n",
    "        pass"
   ]
  },
  {
   "cell_type": "code",
   "execution_count": 3,
   "metadata": {},
   "outputs": [],
   "source": [
    "def getEdges(data, n_smooth, vs, threshold, x0, x1):\n",
    "    edge1 = []\n",
    "    edge2 = []\n",
    "    midz = data.shape[0] // 2\n",
    "    z0 = midz - n_smooth // 2\n",
    "    z1 = midz + n_smooth // 2\n",
    "\n",
    "    data = data[z0:z1, :, :]\n",
    "    data = np.average(data, axis=0)\n",
    "    for x in range(x0, x1, 1):\n",
    "        slice = data[:,x]\n",
    "        vs = np.arange(0.9, 0.99, 0.01)\n",
    "        trailEdgePoint(slice, vs, x, threshold, True, edge1)\n",
    "        trailEdgePoint(slice, vs, x, threshold, False, edge2)\n",
    "\n",
    "    edge1 = np.array(edge1)\n",
    "    edge2 = np.array(edge2)\n",
    "    return edge1, edge2, data"
   ]
  },
  {
   "cell_type": "code",
   "execution_count": 4,
   "metadata": {},
   "outputs": [],
   "source": [
    "def getMach(edge):\n",
    "    M = edge[:,0][:, np.newaxis] ** [0, 1]\n",
    "    c, m = lstsq(M, edge[:,1], rcond=None)[0]\n",
    "    return np.abs(1 / np.sin(np.arctan(m))), c, m"
   ]
  },
  {
   "cell_type": "code",
   "execution_count": 5,
   "metadata": {},
   "outputs": [],
   "source": [
    "def plotCones(data, edge1, edge2, c1, m1, c2, m2, Ma1, Ma2, timestep, type):\n",
    "    plt.imshow(data)\n",
    "    plt.scatter(edge1[:,0], edge1[:,1])\n",
    "    plt.scatter(edge2[:,0], edge2[:,1])\n",
    "    plt.plot(edge1[:,0], edge1[:,0] * m1 + c1, color='k', label=f'Upper edge Ma={Ma1:.3f}')\n",
    "\n",
    "\n",
    "    plt.plot(edge2[:,0], edge2[:,0] * m2 + c2, color='brown', label=f'Lower edge Ma={Ma2:.3f}')\n",
    "    plt.title(\"Frame \" + timestep + \" - \" + type)\n",
    "    plt.legend()\n",
    "    plt.xlabel(\"x\")\n",
    "    plt.ylabel(\"y\")\n",
    "    plt.savefig(f'plots/{type}/{timestep}')\n",
    "    plt.clf()"
   ]
  },
  {
   "cell_type": "code",
   "execution_count": 6,
   "metadata": {},
   "outputs": [],
   "source": [
    "def plotMach(Ma1, Ma2, type):\n",
    "    plt.plot(Ma1)\n",
    "    plt.plot(Ma2)\n",
    "\n",
    "    print(f\"Ma = {Ma1[5:].mean():.3f} ± {Ma1[5:].std():.3f}\")\n",
    "    print(f\"Ma = {Ma2[5:].mean():.3f} ± {Ma2[5:].std():.3f}\")\n",
    "\n",
    "    plt.xlabel('Timestep')\n",
    "    plt.ylabel('Mach number')\n",
    "    plt.title(\"Mach number over time - \" + type)\n",
    "    plt.ylim(0, 10)\n",
    "    plt.savefig(f'plots/{type}/mach')\n",
    "    plt.clf()"
   ]
  },
  {
   "cell_type": "code",
   "execution_count": 7,
   "metadata": {},
   "outputs": [
    {
     "data": {
      "text/plain": [
       "<Figure size 640x480 with 0 Axes>"
      ]
     },
     "metadata": {},
     "output_type": "display_data"
    }
   ],
   "source": [
    "Ma_ion1 = []\n",
    "Ma_ion2 = []\n",
    "Ma_ele1 = []\n",
    "Ma_ele2 = []\n",
    "\n",
    "if os.path.exists('./plots'):\n",
    "    shutil.rmtree('./plots')\n",
    "os.makedirs('./plots')\n",
    "os.makedirs('./plots/ion density')\n",
    "os.makedirs('./plots/electron density')\n",
    "\n",
    "for timestep in timesteps:\n",
    "    ion = data_ion[timestep][()]\n",
    "    ele = data_ele[timestep][()]\n",
    "    phi = data_phi[timestep][()]\n",
    "\n",
    "    edge1, edge2, data = getEdges(ion, 20, np.arange(0.9, 0.97, 0.01), 1, 60, 140)\n",
    "    Ma1, c1, m1 = getMach(edge1)\n",
    "    Ma_ion1.append(Ma1)\n",
    "    Ma2, c2, m2 = getMach(edge2)\n",
    "    Ma_ion2.append(Ma2)\n",
    "\n",
    "    plotCones(data, edge1, edge2, c1, m1, c2, m2, Ma1, Ma2, timestep, 'ion density')\n",
    "\n",
    "    edge1, edge2, data = getEdges(ele, 20, np.arange(0.9, 0.99, 0.01), 1, 60, 140)\n",
    "    Ma1, c1, m1 = getMach(edge1)\n",
    "    Ma_ele1.append(Ma1)\n",
    "    Ma2, c2, m2 = getMach(edge2)\n",
    "    Ma_ele2.append(Ma2)\n",
    "\n",
    "    plotCones(data, edge1, edge2, c1, m1, c2, m2, Ma1, Ma2, timestep, 'electron density')\n"
   ]
  }
 ],
 "metadata": {
  "kernelspec": {
   "display_name": "Python 3",
   "language": "python",
   "name": "python3"
  },
  "language_info": {
   "codemirror_mode": {
    "name": "ipython",
    "version": 3
   },
   "file_extension": ".py",
   "mimetype": "text/x-python",
   "name": "python",
   "nbconvert_exporter": "python",
   "pygments_lexer": "ipython3",
   "version": "3.10.12"
  }
 },
 "nbformat": 4,
 "nbformat_minor": 2
}
