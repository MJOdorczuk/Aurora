{
 "cells": [
  {
   "cell_type": "markdown",
   "metadata": {},
   "source": [
    "# Ion density boundary for Mach cones\n",
    "\n",
    "This notebook analyses the distribution of plasma ions around the Mach cone boundary. Scientific case of NorSat-1 satellite in a supersonic plasma flow.\n",
    "\n",
    "Group 3: ***Aurora***\n",
    " - Doyeon Kim\n",
    " - Michał Jan Odorczuk\n",
    " - Rachel Knutsen Stiansen\n",
    " - Shunsuke Kawamura\n",
    " - Taito Taniguchi\n",
    "\n",
    "### Description\n",
    "\n",
    "The simulation parameters were set to:\n",
    "\n",
    "| Parameter | default|\n",
    "| :--- | ---:|\n",
    "| Plasma density | $10^5$ #/cc|\n",
    "| Electron temperature | $1000$ K|\n",
    "| Ion temperature | $750$ K|\n",
    "| Ion to electron mass ratio | $1000$|\n",
    "\n",
    "with plasma flow in the positive x direction. All plots include the information on the used the Mach number and the magnetic field orientation and strength. All simulation used [EMSES](https://www.energy.kyoto-u.ac.jp/gcoe/en/emses/aboutemses.htm) software on CAMPHOR supercomputer from [Kyoto University](https://www.kyoto-u.ac.jp/ja).\n",
    "\n",
    "The simulations used a mesh of $160 \\times 160 \\times 154$, with the grid width of $0.5$ cm. The mesh included a simplified model of the NorSat-1 satellite consisting of 9 elements:\n",
    " - Main body - cuboid stretching from $(59,74,63)$ to $(80,86,93)$,\n",
    " - Solar panel 1 - cuboid stretching from $(59, 62, 63)$ to $(60, 74, 93)$,\n",
    " - Solar panel 2 - cuboid stretching from $(59, 86, 63)$ to $(60, 98, 93)$,\n",
    " - Langmuir probe rod 1 - cylinder of radius $0.5$, aligned with the y-axis, stretching from $(80, 51, 63)$ to $(80, 109, 63)$,\n",
    " - Langmuir probe rod 2 - cylinder of radius $0.5$, aligned with the y-axis, stretching from $(80, 51, 93)$ to $(80, 109, 93)$,\n",
    " - Langmuir probe ball 1 - sphere of radius $0.5$, centered at $(80, 110, 63)$,\n",
    " - Langmuir probe ball 2 - sphere of radius $0.5$, centered at $(80, 110, 93)$,\n",
    " - Langmuir probe ball 3 - sphere of radius $0.5$, centered at $(80, 50, 63)$,\n",
    " - Langmuir probe ball 4 - sphere of radius $0.5$, centered at $(80, 50, 93)$,"
   ]
  },
  {
   "cell_type": "code",
   "execution_count": 1,
   "metadata": {},
   "outputs": [],
   "source": [
    "import pandas as pd\n",
    "from matplotlib import pyplot as plt\n",
    "import numpy as np\n",
    "from os import listdir\n",
    "import re"
   ]
  },
  {
   "cell_type": "markdown",
   "metadata": {},
   "source": [
    "## Data\n",
    "\n",
    "All the datafiles should be located in `./res/data/` and their names should be in the format `data_B<x>_Ma<y>_<z>uT.csv`, where `<x>` is the direction of the magnetic field, `<y>` is the Mach number of the flow, and `<z>` is the magnetic field strength in microteslas. The files are expected to be in the format as exported from Paraview, with at least six columns:\n",
    "\n",
    "| Variable name | Type | Description |\n",
    "| :--- | :--- | ---: |\n",
    "| `Structured Coordinates:0` | integer | Point coordinate in the x-direction |\n",
    "| `Structured Coordinates:1` | integer | Point coordinate in the y-direction |\n",
    "| `Structured Coordinates:2` | integer | Point coordinate in the z-direction |\n",
    "| `nd1p` | floating point number | Normalised number density of electrons |\n",
    "| `nd2p` | floating point number | Normalised number density of ions |\n",
    "| `phisp` | floating point number | Normalised electric field potential |"
   ]
  },
  {
   "cell_type": "code",
   "execution_count": 2,
   "metadata": {},
   "outputs": [
    {
     "name": "stdout",
     "output_type": "stream",
     "text": [
      "simulation with parameters  Bz_Ma6.4_50uT  included\n",
      "simulation with parameters  Bx_Ma0.2_0uT  included\n",
      "simulation with parameters  Bx_Ma2.0_70uT  included\n",
      "simulation with parameters  Bx_Ma4.0_50uT  included\n",
      "simulation with parameters  Bx_Ma2.0_100uT  included\n",
      "simulation with parameters  Bz_Ma0.2_50uT  included\n",
      "simulation with parameters  Bx_Ma2.0_50uT  included\n",
      "simulation with parameters  Bx_Ma2.0_0uT  included\n",
      "simulation with parameters  Bx_Ma0.2_50uT  included\n",
      "simulation with parameters  Bx_Ma6.4_50uT  included\n",
      "simulation with parameters  Bx_Ma4.0_0uT  included\n",
      "simulation with parameters  Bz_Ma2.0_50uT  included\n",
      "simulation with parameters  Bx_Ma6.4_0uT  included\n"
     ]
    }
   ],
   "source": [
    "data_dir = \"./res/data/\"\n",
    "dirs = listdir(data_dir)\n",
    "dfs = {}\n",
    "files = [file for file in dirs if file[:4] == \"data\"]\n",
    "for file in files:\n",
    "    label = re.search(\"^data_(.*)\\.csv$\", file).group(1)\n",
    "    dfs[label] = pd.read_csv(data_dir + file)\n",
    "    print(\"simulation with parameters \", label, \" included\")"
   ]
  },
  {
   "cell_type": "markdown",
   "metadata": {},
   "source": [
    "## Function definitions"
   ]
  },
  {
   "cell_type": "markdown",
   "metadata": {},
   "source": [
    "### Background for plots\n",
    "\n",
    "Displaying field data as a background for the plot.\n",
    "\n",
    " - `df` - dataframe containing the background data. It has to include three coordinates `Structured Coordinates:0`, `Structured Coordinates:1` and `Structured Coordinates:2`, and the background field data under label given by attribute `field`.\n",
    " - `ax` - axis object for plotting,\n",
    " - `xlow` - lower limit of the plot in x-direction (`Structured Coordinates:0`),\n",
    " - `xhigh` - upper limit of the plot in x-direction (`Structured Coordinates:0`),\n",
    " - `ylow` - lower limit of the plot in y-direction (`Structured Coordinates:1`),\n",
    " - `yhigh` - upper limit of the plot in y-direction (`Structured Coordinates:1`),\n",
    " - `z` - z (`Structured Coordinates:1`) coordinate of the slicing plane,\n",
    " - `field` - field to be displayed as the background,\n",
    " - `steps` - number of contour levels to be displayed over the plot."
   ]
  },
  {
   "cell_type": "code",
   "execution_count": 3,
   "metadata": {},
   "outputs": [],
   "source": [
    "def background(df, ax, xlow, xhigh, ylow, yhigh, z, field, steps=10):\n",
    "    xs = df[\"Structured Coordinates:0\"]\n",
    "    ys = df[\"Structured Coordinates:1\"]\n",
    "    zs = df[\"Structured Coordinates:2\"]\n",
    "    df = df[(zs==z)&(xs>=xlow)&(xs<=xhigh)&(ys>=ylow)&(ys<=yhigh)]\n",
    "    phi = df[field]\n",
    "    grid_x = np.unique(df[\"Structured Coordinates:0\"])\n",
    "    grid_y = np.unique(df[\"Structured Coordinates:1\"])\n",
    "\n",
    "    X, Y = np.meshgrid(grid_x, grid_y)\n",
    "    PHI = phi.to_numpy().reshape(X.shape)\n",
    "\n",
    "    ax.pcolor(X, Y, PHI, cmap=plt.get_cmap(\"gray\"))\n",
    "    min_phi, max_phi = PHI.min(), PHI.max()\n",
    "    ax.contour(X, Y, PHI, np.arange(min_phi, max_phi, (max_phi - min_phi) / steps), cmap=plt.get_cmap(\"gray\"))"
   ]
  },
  {
   "cell_type": "markdown",
   "metadata": {},
   "source": [
    "### Outer cone\n",
    "\n",
    "Object moving through a medium supersonic will produce a shock wave downstream. The upstream-downstream boundary should be sharp and easily distinguishible. By marking sudden drops in the ion density, we can estimate the shape of the cone. Because of a subsonic wake in front of the spacecraft, we should assume the cone to stabilise only slightly behind the spacecraft's front. For that, let us..."
   ]
  }
 ],
 "metadata": {
  "kernelspec": {
   "display_name": "Python 3",
   "language": "python",
   "name": "python3"
  },
  "language_info": {
   "codemirror_mode": {
    "name": "ipython",
    "version": 3
   },
   "file_extension": ".py",
   "mimetype": "text/x-python",
   "name": "python",
   "nbconvert_exporter": "python",
   "pygments_lexer": "ipython3",
   "version": "3.10.12"
  }
 },
 "nbformat": 4,
 "nbformat_minor": 2
}
